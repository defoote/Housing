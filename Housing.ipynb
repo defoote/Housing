{
 "cells": [
  {
   "cell_type": "markdown",
   "metadata": {},
   "source": [
    "# Basic Neural Net w/Keras "
   ]
  },
  {
   "cell_type": "markdown",
   "metadata": {},
   "source": [
    "## Imports"
   ]
  },
  {
   "cell_type": "code",
   "execution_count": 2,
   "metadata": {},
   "outputs": [],
   "source": [
    "import numpy as np\n",
    "import pandas as pd\n",
    "import matplotlib.pyplot as plt\n",
    "import seaborn as sns"
   ]
  },
  {
   "cell_type": "markdown",
   "metadata": {},
   "source": [
    "## Import data"
   ]
  },
  {
   "cell_type": "code",
   "execution_count": 3,
   "metadata": {},
   "outputs": [],
   "source": [
    "train = pd.read_csv('./Data/train.csv',index_col=0)\n",
    "test = pd.read_csv('./Data/test.csv',index_col=0)"
   ]
  },
  {
   "cell_type": "markdown",
   "metadata": {},
   "source": [
    "## Get full columns and only use this data"
   ]
  },
  {
   "cell_type": "code",
   "execution_count": 4,
   "metadata": {},
   "outputs": [],
   "source": [
    "cols = []\n",
    "for col in train.columns:\n",
    "    if train[col].count() == 1460:\n",
    "        cols.append(col)"
   ]
  },
  {
   "cell_type": "code",
   "execution_count": 5,
   "metadata": {},
   "outputs": [],
   "source": [
    "train = train[cols]\n",
    "test = test[cols[:-1]]"
   ]
  },
  {
   "cell_type": "markdown",
   "metadata": {},
   "source": [
    "## Create dummy columns for categorical variables"
   ]
  },
  {
   "cell_type": "code",
   "execution_count": 6,
   "metadata": {},
   "outputs": [],
   "source": [
    "# Concat so that train and test have same number of columns since test is missing some values in a few columns\n",
    "temp = pd.get_dummies(pd.concat([train,test],sort=False))\n",
    "train = temp.iloc[:1460]\n",
    "test = temp.iloc[1460:].drop(['SalePrice'],axis=1)"
   ]
  },
  {
   "cell_type": "markdown",
   "metadata": {},
   "source": [
    "## Scale Data"
   ]
  },
  {
   "cell_type": "code",
   "execution_count": 7,
   "metadata": {},
   "outputs": [],
   "source": [
    "from sklearn.preprocessing import MinMaxScaler\n",
    "\n",
    "train_scaler = MinMaxScaler()\n",
    "test_scaler = MinMaxScaler()\n",
    "train = pd.DataFrame(train_scaler.fit_transform(train),columns=train.columns)\n",
    "test = pd.DataFrame(test_scaler.fit_transform(test),columns=test.columns,index=np.arange(1461,2920))"
   ]
  },
  {
   "cell_type": "markdown",
   "metadata": {},
   "source": [
    "## Split Train into feature and target columns"
   ]
  },
  {
   "cell_type": "code",
   "execution_count": 8,
   "metadata": {},
   "outputs": [],
   "source": [
    "x = train.drop(['SalePrice'],axis=1)\n",
    "y = train['SalePrice']"
   ]
  },
  {
   "cell_type": "markdown",
   "metadata": {},
   "source": [
    "## Train Test Split on Train"
   ]
  },
  {
   "cell_type": "code",
   "execution_count": 9,
   "metadata": {},
   "outputs": [],
   "source": [
    "from sklearn.model_selection import train_test_split\n",
    "\n",
    "x_train,x_test,y_train,y_test = train_test_split(x,y,test_size=0.3)"
   ]
  },
  {
   "cell_type": "markdown",
   "metadata": {},
   "source": [
    "##  Create Neural Net"
   ]
  },
  {
   "cell_type": "code",
   "execution_count": 10,
   "metadata": {},
   "outputs": [
    {
     "name": "stderr",
     "output_type": "stream",
     "text": [
      "Using TensorFlow backend.\n"
     ]
    }
   ],
   "source": [
    "from keras.models import Sequential\n",
    "from keras.layers import Dense,Dropout\n",
    "import keras"
   ]
  },
  {
   "cell_type": "code",
   "execution_count": 11,
   "metadata": {
    "scrolled": true
   },
   "outputs": [
    {
     "name": "stdout",
     "output_type": "stream",
     "text": [
      "Train on 1022 samples, validate on 438 samples\n",
      "Epoch 1/100\n",
      "1022/1022 [==============================] - 1s 505us/step - loss: 0.0682 - mae: 0.2266 - val_loss: 0.0118 - val_mae: 0.0782\n",
      "Epoch 2/100\n",
      "1022/1022 [==============================] - 0s 115us/step - loss: 0.0243 - mae: 0.1186 - val_loss: 0.0078 - val_mae: 0.0645\n",
      "Epoch 3/100\n",
      "1022/1022 [==============================] - 0s 114us/step - loss: 0.0172 - mae: 0.1006 - val_loss: 0.0059 - val_mae: 0.0570\n",
      "Epoch 4/100\n",
      "1022/1022 [==============================] - 0s 108us/step - loss: 0.0131 - mae: 0.0879 - val_loss: 0.0049 - val_mae: 0.0521\n",
      "Epoch 5/100\n",
      "1022/1022 [==============================] - 0s 105us/step - loss: 0.0119 - mae: 0.0851 - val_loss: 0.0040 - val_mae: 0.0464\n",
      "Epoch 6/100\n",
      "1022/1022 [==============================] - 0s 116us/step - loss: 0.0103 - mae: 0.0775 - val_loss: 0.0037 - val_mae: 0.0445\n",
      "Epoch 7/100\n",
      "1022/1022 [==============================] - 0s 119us/step - loss: 0.0092 - mae: 0.0743 - val_loss: 0.0037 - val_mae: 0.0446\n",
      "Epoch 8/100\n",
      "1022/1022 [==============================] - 0s 111us/step - loss: 0.0082 - mae: 0.0689 - val_loss: 0.0035 - val_mae: 0.0432\n",
      "Epoch 9/100\n",
      "1022/1022 [==============================] - 0s 110us/step - loss: 0.0084 - mae: 0.0719 - val_loss: 0.0033 - val_mae: 0.0410\n",
      "Epoch 10/100\n",
      "1022/1022 [==============================] - 0s 115us/step - loss: 0.0084 - mae: 0.0694 - val_loss: 0.0032 - val_mae: 0.0410\n",
      "Epoch 11/100\n",
      "1022/1022 [==============================] - 0s 116us/step - loss: 0.0076 - mae: 0.0681 - val_loss: 0.0031 - val_mae: 0.0381\n",
      "Epoch 12/100\n",
      "1022/1022 [==============================] - 0s 110us/step - loss: 0.0073 - mae: 0.0670 - val_loss: 0.0031 - val_mae: 0.0379\n",
      "Epoch 13/100\n",
      "1022/1022 [==============================] - 0s 109us/step - loss: 0.0069 - mae: 0.0651 - val_loss: 0.0032 - val_mae: 0.0367\n",
      "Epoch 14/100\n",
      "1022/1022 [==============================] - 0s 111us/step - loss: 0.0066 - mae: 0.0634 - val_loss: 0.0031 - val_mae: 0.0372\n",
      "Epoch 15/100\n",
      "1022/1022 [==============================] - 0s 119us/step - loss: 0.0063 - mae: 0.0630 - val_loss: 0.0030 - val_mae: 0.0343\n",
      "Epoch 16/100\n",
      "1022/1022 [==============================] - 0s 111us/step - loss: 0.0066 - mae: 0.0648 - val_loss: 0.0032 - val_mae: 0.0365\n",
      "Epoch 17/100\n",
      "1022/1022 [==============================] - 0s 109us/step - loss: 0.0067 - mae: 0.0653 - val_loss: 0.0032 - val_mae: 0.0362\n",
      "Epoch 18/100\n",
      "1022/1022 [==============================] - 0s 114us/step - loss: 0.0062 - mae: 0.0614 - val_loss: 0.0032 - val_mae: 0.0349\n",
      "Epoch 19/100\n",
      "1022/1022 [==============================] - 0s 109us/step - loss: 0.0066 - mae: 0.0621 - val_loss: 0.0030 - val_mae: 0.0336\n",
      "Epoch 20/100\n",
      "1022/1022 [==============================] - 0s 118us/step - loss: 0.0059 - mae: 0.0599 - val_loss: 0.0030 - val_mae: 0.0337\n",
      "Epoch 21/100\n",
      "1022/1022 [==============================] - 0s 109us/step - loss: 0.0063 - mae: 0.0619 - val_loss: 0.0032 - val_mae: 0.0344\n",
      "Epoch 22/100\n",
      "1022/1022 [==============================] - 0s 111us/step - loss: 0.0063 - mae: 0.0617 - val_loss: 0.0033 - val_mae: 0.0344\n",
      "Epoch 23/100\n",
      "1022/1022 [==============================] - 0s 110us/step - loss: 0.0050 - mae: 0.0565 - val_loss: 0.0033 - val_mae: 0.0342\n",
      "Epoch 24/100\n",
      "1022/1022 [==============================] - 0s 120us/step - loss: 0.0059 - mae: 0.0590 - val_loss: 0.0032 - val_mae: 0.0328\n",
      "Epoch 25/100\n",
      "1022/1022 [==============================] - 0s 110us/step - loss: 0.0059 - mae: 0.0590 - val_loss: 0.0035 - val_mae: 0.0353\n",
      "Epoch 26/100\n",
      "1022/1022 [==============================] - 0s 110us/step - loss: 0.0052 - mae: 0.0565 - val_loss: 0.0033 - val_mae: 0.0341\n",
      "Epoch 27/100\n",
      "1022/1022 [==============================] - 0s 120us/step - loss: 0.0047 - mae: 0.0538 - val_loss: 0.0034 - val_mae: 0.0336\n",
      "Epoch 28/100\n",
      "1022/1022 [==============================] - 0s 112us/step - loss: 0.0051 - mae: 0.0559 - val_loss: 0.0032 - val_mae: 0.0325\n",
      "Epoch 29/100\n",
      "1022/1022 [==============================] - 0s 111us/step - loss: 0.0047 - mae: 0.0528 - val_loss: 0.0034 - val_mae: 0.0328\n",
      "Epoch 30/100\n",
      "1022/1022 [==============================] - 0s 112us/step - loss: 0.0049 - mae: 0.0534 - val_loss: 0.0033 - val_mae: 0.0303\n",
      "Epoch 31/100\n",
      "1022/1022 [==============================] - 0s 110us/step - loss: 0.0052 - mae: 0.0550 - val_loss: 0.0031 - val_mae: 0.0317\n",
      "Epoch 32/100\n",
      "1022/1022 [==============================] - 0s 120us/step - loss: 0.0045 - mae: 0.0525 - val_loss: 0.0030 - val_mae: 0.0310\n",
      "Epoch 33/100\n",
      "1022/1022 [==============================] - 0s 112us/step - loss: 0.0048 - mae: 0.0530 - val_loss: 0.0034 - val_mae: 0.0347\n",
      "Epoch 34/100\n",
      "1022/1022 [==============================] - 0s 110us/step - loss: 0.0043 - mae: 0.0508 - val_loss: 0.0032 - val_mae: 0.0322\n",
      "Epoch 35/100\n",
      "1022/1022 [==============================] - 0s 129us/step - loss: 0.0043 - mae: 0.0507 - val_loss: 0.0032 - val_mae: 0.0311\n",
      "Epoch 36/100\n",
      "1022/1022 [==============================] - 0s 111us/step - loss: 0.0040 - mae: 0.0488 - val_loss: 0.0034 - val_mae: 0.0310\n",
      "Epoch 37/100\n",
      "1022/1022 [==============================] - 0s 109us/step - loss: 0.0041 - mae: 0.0505 - val_loss: 0.0033 - val_mae: 0.0299\n",
      "Epoch 38/100\n",
      "1022/1022 [==============================] - 0s 119us/step - loss: 0.0040 - mae: 0.0490 - val_loss: 0.0035 - val_mae: 0.0343\n",
      "Epoch 39/100\n",
      "1022/1022 [==============================] - 0s 110us/step - loss: 0.0039 - mae: 0.0490 - val_loss: 0.0033 - val_mae: 0.0295\n",
      "Epoch 40/100\n",
      "1022/1022 [==============================] - 0s 111us/step - loss: 0.0036 - mae: 0.0465 - val_loss: 0.0032 - val_mae: 0.0297\n",
      "Epoch 41/100\n",
      "1022/1022 [==============================] - 0s 111us/step - loss: 0.0039 - mae: 0.0484 - val_loss: 0.0033 - val_mae: 0.0294\n",
      "Epoch 42/100\n",
      "1022/1022 [==============================] - 0s 111us/step - loss: 0.0035 - mae: 0.0467 - val_loss: 0.0035 - val_mae: 0.0302\n",
      "Epoch 43/100\n",
      "1022/1022 [==============================] - 0s 127us/step - loss: 0.0043 - mae: 0.0494 - val_loss: 0.0038 - val_mae: 0.0311\n",
      "Epoch 44/100\n",
      "1022/1022 [==============================] - 0s 134us/step - loss: 0.0038 - mae: 0.0480 - val_loss: 0.0037 - val_mae: 0.0345\n",
      "Epoch 45/100\n",
      "1022/1022 [==============================] - 0s 110us/step - loss: 0.0039 - mae: 0.0481 - val_loss: 0.0035 - val_mae: 0.0301\n",
      "Epoch 46/100\n",
      "1022/1022 [==============================] - 0s 119us/step - loss: 0.0035 - mae: 0.0453 - val_loss: 0.0037 - val_mae: 0.0327\n",
      "Epoch 47/100\n",
      "1022/1022 [==============================] - 0s 109us/step - loss: 0.0035 - mae: 0.0456 - val_loss: 0.0034 - val_mae: 0.0291\n",
      "Epoch 48/100\n",
      "1022/1022 [==============================] - 0s 110us/step - loss: 0.0035 - mae: 0.0446 - val_loss: 0.0034 - val_mae: 0.0287\n",
      "Epoch 49/100\n",
      "1022/1022 [==============================] - 0s 112us/step - loss: 0.0032 - mae: 0.0444 - val_loss: 0.0037 - val_mae: 0.0314\n",
      "Epoch 50/100\n",
      "1022/1022 [==============================] - 0s 110us/step - loss: 0.0036 - mae: 0.0461 - val_loss: 0.0035 - val_mae: 0.0316\n",
      "Epoch 51/100\n",
      "1022/1022 [==============================] - 0s 125us/step - loss: 0.0035 - mae: 0.0436 - val_loss: 0.0035 - val_mae: 0.0297\n",
      "Epoch 52/100\n",
      "1022/1022 [==============================] - 0s 126us/step - loss: 0.0033 - mae: 0.0437 - val_loss: 0.0035 - val_mae: 0.0294\n",
      "Epoch 53/100\n",
      "1022/1022 [==============================] - 0s 120us/step - loss: 0.0032 - mae: 0.0437 - val_loss: 0.0035 - val_mae: 0.0290\n",
      "Epoch 54/100\n",
      "1022/1022 [==============================] - 0s 114us/step - loss: 0.0031 - mae: 0.0431 - val_loss: 0.0036 - val_mae: 0.0288\n",
      "Epoch 55/100\n",
      "1022/1022 [==============================] - 0s 111us/step - loss: 0.0030 - mae: 0.0435 - val_loss: 0.0037 - val_mae: 0.0305\n",
      "Epoch 56/100\n",
      "1022/1022 [==============================] - 0s 111us/step - loss: 0.0030 - mae: 0.0420 - val_loss: 0.0035 - val_mae: 0.0284\n",
      "Epoch 57/100\n",
      "1022/1022 [==============================] - 0s 119us/step - loss: 0.0034 - mae: 0.0424 - val_loss: 0.0034 - val_mae: 0.0289\n",
      "Epoch 58/100\n",
      "1022/1022 [==============================] - 0s 110us/step - loss: 0.0030 - mae: 0.0425 - val_loss: 0.0035 - val_mae: 0.0281\n",
      "Epoch 59/100\n",
      "1022/1022 [==============================] - 0s 110us/step - loss: 0.0030 - mae: 0.0410 - val_loss: 0.0036 - val_mae: 0.0288\n",
      "Epoch 60/100\n"
     ]
    },
    {
     "name": "stdout",
     "output_type": "stream",
     "text": [
      "1022/1022 [==============================] - 0s 116us/step - loss: 0.0032 - mae: 0.0426 - val_loss: 0.0040 - val_mae: 0.0295\n",
      "Epoch 61/100\n",
      "1022/1022 [==============================] - 0s 108us/step - loss: 0.0029 - mae: 0.0412 - val_loss: 0.0037 - val_mae: 0.0296\n",
      "Epoch 62/100\n",
      "1022/1022 [==============================] - 0s 105us/step - loss: 0.0028 - mae: 0.0406 - val_loss: 0.0039 - val_mae: 0.0334\n",
      "Epoch 63/100\n",
      "1022/1022 [==============================] - 0s 102us/step - loss: 0.0031 - mae: 0.0417 - val_loss: 0.0038 - val_mae: 0.0305\n",
      "Epoch 64/100\n",
      "1022/1022 [==============================] - 0s 105us/step - loss: 0.0028 - mae: 0.0400 - val_loss: 0.0037 - val_mae: 0.0281\n",
      "Epoch 65/100\n",
      "1022/1022 [==============================] - 0s 103us/step - loss: 0.0027 - mae: 0.0399 - val_loss: 0.0039 - val_mae: 0.0299\n",
      "Epoch 66/100\n",
      "1022/1022 [==============================] - 0s 105us/step - loss: 0.0029 - mae: 0.0404 - val_loss: 0.0038 - val_mae: 0.0286\n",
      "Epoch 67/100\n",
      "1022/1022 [==============================] - 0s 103us/step - loss: 0.0026 - mae: 0.0399 - val_loss: 0.0039 - val_mae: 0.0301\n",
      "Epoch 68/100\n",
      "1022/1022 [==============================] - 0s 105us/step - loss: 0.0026 - mae: 0.0391 - val_loss: 0.0036 - val_mae: 0.0286\n",
      "Epoch 69/100\n",
      "1022/1022 [==============================] - 0s 102us/step - loss: 0.0029 - mae: 0.0403 - val_loss: 0.0038 - val_mae: 0.0314\n",
      "Epoch 70/100\n",
      "1022/1022 [==============================] - 0s 105us/step - loss: 0.0027 - mae: 0.0395 - val_loss: 0.0037 - val_mae: 0.0288\n",
      "Epoch 71/100\n",
      "1022/1022 [==============================] - 0s 102us/step - loss: 0.0026 - mae: 0.0386 - val_loss: 0.0040 - val_mae: 0.0323\n",
      "Epoch 72/100\n",
      "1022/1022 [==============================] - 0s 102us/step - loss: 0.0027 - mae: 0.0394 - val_loss: 0.0037 - val_mae: 0.0273\n",
      "Epoch 73/100\n",
      "1022/1022 [==============================] - 0s 106us/step - loss: 0.0027 - mae: 0.0385 - val_loss: 0.0041 - val_mae: 0.0329\n",
      "Epoch 74/100\n",
      "1022/1022 [==============================] - 0s 105us/step - loss: 0.0025 - mae: 0.0374 - val_loss: 0.0038 - val_mae: 0.0301\n",
      "Epoch 75/100\n",
      "1022/1022 [==============================] - 0s 102us/step - loss: 0.0024 - mae: 0.0377 - val_loss: 0.0038 - val_mae: 0.0303\n",
      "Epoch 76/100\n",
      "1022/1022 [==============================] - 0s 103us/step - loss: 0.0023 - mae: 0.0372 - val_loss: 0.0039 - val_mae: 0.0325\n",
      "Epoch 77/100\n",
      "1022/1022 [==============================] - 0s 104us/step - loss: 0.0022 - mae: 0.0351 - val_loss: 0.0037 - val_mae: 0.0294\n",
      "Epoch 78/100\n",
      "1022/1022 [==============================] - 0s 102us/step - loss: 0.0023 - mae: 0.0376 - val_loss: 0.0036 - val_mae: 0.0274\n",
      "Epoch 79/100\n",
      "1022/1022 [==============================] - 0s 106us/step - loss: 0.0020 - mae: 0.0357 - val_loss: 0.0038 - val_mae: 0.0296\n",
      "Epoch 80/100\n",
      "1022/1022 [==============================] - 0s 102us/step - loss: 0.0022 - mae: 0.0369 - val_loss: 0.0039 - val_mae: 0.0296\n",
      "Epoch 81/100\n",
      "1022/1022 [==============================] - 0s 105us/step - loss: 0.0027 - mae: 0.0381 - val_loss: 0.0039 - val_mae: 0.0283\n",
      "Epoch 82/100\n",
      "1022/1022 [==============================] - 0s 102us/step - loss: 0.0023 - mae: 0.0365 - val_loss: 0.0039 - val_mae: 0.0304\n",
      "Epoch 83/100\n",
      "1022/1022 [==============================] - 0s 105us/step - loss: 0.0024 - mae: 0.0375 - val_loss: 0.0039 - val_mae: 0.0292\n",
      "Epoch 84/100\n",
      "1022/1022 [==============================] - 0s 104us/step - loss: 0.0024 - mae: 0.0365 - val_loss: 0.0037 - val_mae: 0.0279\n",
      "Epoch 85/100\n",
      "1022/1022 [==============================] - 0s 104us/step - loss: 0.0021 - mae: 0.0353 - val_loss: 0.0041 - val_mae: 0.0340\n",
      "Epoch 86/100\n",
      "1022/1022 [==============================] - 0s 103us/step - loss: 0.0020 - mae: 0.0339 - val_loss: 0.0038 - val_mae: 0.0295\n",
      "Epoch 87/100\n",
      "1022/1022 [==============================] - 0s 101us/step - loss: 0.0020 - mae: 0.0345 - val_loss: 0.0037 - val_mae: 0.0276\n",
      "Epoch 88/100\n",
      "1022/1022 [==============================] - 0s 105us/step - loss: 0.0028 - mae: 0.0367 - val_loss: 0.0040 - val_mae: 0.0301\n",
      "Epoch 89/100\n",
      "1022/1022 [==============================] - 0s 101us/step - loss: 0.0027 - mae: 0.0355 - val_loss: 0.0037 - val_mae: 0.0298\n",
      "Epoch 90/100\n",
      "1022/1022 [==============================] - 0s 106us/step - loss: 0.0021 - mae: 0.0338 - val_loss: 0.0035 - val_mae: 0.0286\n",
      "Epoch 91/100\n",
      "1022/1022 [==============================] - 0s 102us/step - loss: 0.0020 - mae: 0.0339 - val_loss: 0.0034 - val_mae: 0.0283\n",
      "Epoch 92/100\n",
      "1022/1022 [==============================] - 0s 105us/step - loss: 0.0020 - mae: 0.0334 - val_loss: 0.0039 - val_mae: 0.0325\n",
      "Epoch 93/100\n",
      "1022/1022 [==============================] - 0s 103us/step - loss: 0.0020 - mae: 0.0334 - val_loss: 0.0039 - val_mae: 0.0288\n",
      "Epoch 94/100\n",
      "1022/1022 [==============================] - 0s 108us/step - loss: 0.0022 - mae: 0.0339 - val_loss: 0.0040 - val_mae: 0.0312\n",
      "Epoch 95/100\n",
      "1022/1022 [==============================] - 0s 105us/step - loss: 0.0023 - mae: 0.0356 - val_loss: 0.0036 - val_mae: 0.0276\n",
      "Epoch 96/100\n",
      "1022/1022 [==============================] - 0s 109us/step - loss: 0.0020 - mae: 0.0333 - val_loss: 0.0038 - val_mae: 0.0286\n",
      "Epoch 97/100\n",
      "1022/1022 [==============================] - 0s 105us/step - loss: 0.0019 - mae: 0.0327 - val_loss: 0.0040 - val_mae: 0.0297\n",
      "Epoch 98/100\n",
      "1022/1022 [==============================] - 0s 102us/step - loss: 0.0019 - mae: 0.0321 - val_loss: 0.0040 - val_mae: 0.0294\n",
      "Epoch 99/100\n",
      "1022/1022 [==============================] - 0s 105us/step - loss: 0.0020 - mae: 0.0325 - val_loss: 0.0039 - val_mae: 0.0296\n",
      "Epoch 100/100\n",
      "1022/1022 [==============================] - 0s 103us/step - loss: 0.0018 - mae: 0.0325 - val_loss: 0.0043 - val_mae: 0.0300\n"
     ]
    },
    {
     "data": {
      "text/plain": [
       "<keras.callbacks.callbacks.History at 0x13ee4e210>"
      ]
     },
     "execution_count": 11,
     "metadata": {},
     "output_type": "execute_result"
    }
   ],
   "source": [
    "epochs = 100\n",
    "batch_size = 32\n",
    "\n",
    "model = Sequential()\n",
    "model.add(Dense(100,activation='relu',input_dim=215))\n",
    "model.add(Dropout(0.3))\n",
    "model.add(Dense(100,activation='relu'))\n",
    "model.add(Dropout(0.3))\n",
    "model.add(Dense(50,activation='relu'))\n",
    "model.add(Dropout(0.3))\n",
    "model.add(Dense(10,activation='relu'))\n",
    "model.add(Dropout(0.3))\n",
    "model.add(Dense(1,activation='sigmoid'))\n",
    "\n",
    "model.compile(optimizer='Adam',loss='mse',metrics=['mae'])\n",
    "\n",
    "model.fit(x_train,y_train,batch_size=batch_size,epochs=epochs,verbose=1,validation_data=(x_test,y_test))"
   ]
  },
  {
   "cell_type": "markdown",
   "metadata": {},
   "source": [
    "## Evaluate on Test portion of the Train data"
   ]
  },
  {
   "cell_type": "code",
   "execution_count": 12,
   "metadata": {},
   "outputs": [
    {
     "name": "stdout",
     "output_type": "stream",
     "text": [
      "438/438 [==============================] - 0s 43us/step\n"
     ]
    },
    {
     "data": {
      "text/plain": [
       "[0.004253175420065721, 0.029997803270816803]"
      ]
     },
     "execution_count": 12,
     "metadata": {},
     "output_type": "execute_result"
    }
   ],
   "source": [
    "model.evaluate(x_test,y_test)"
   ]
  },
  {
   "cell_type": "markdown",
   "metadata": {},
   "source": [
    "## Visualize the accuracy"
   ]
  },
  {
   "cell_type": "code",
   "execution_count": 13,
   "metadata": {},
   "outputs": [],
   "source": [
    "pred = model.predict(x_test)"
   ]
  },
  {
   "cell_type": "code",
   "execution_count": 14,
   "metadata": {},
   "outputs": [
    {
     "data": {
      "text/plain": [
       "[<matplotlib.lines.Line2D at 0x13f0af150>]"
      ]
     },
     "execution_count": 14,
     "metadata": {},
     "output_type": "execute_result"
    },
    {
     "data": {
      "image/png": "[encoded data removed]",
      "text/plain": [
       "<Figure size 432x288 with 1 Axes>"
      ]
     },
     "metadata": {
      "needs_background": "light"
     },
     "output_type": "display_data"
    }
   ],
   "source": [
    "plt.scatter(pred,y_test)\n",
    "plt.plot(np.arange(0,0.5,0.01),np.arange(0,0.5,0.01))"
   ]
  },
  {
   "cell_type": "markdown",
   "metadata": {},
   "source": [
    "## Make predictions for Test"
   ]
  },
  {
   "cell_type": "code",
   "execution_count": 15,
   "metadata": {},
   "outputs": [],
   "source": [
    "pred = model.predict(test)\n",
    "pred = [x[0] for x in pred]"
   ]
  },
  {
   "cell_type": "markdown",
   "metadata": {},
   "source": [
    "## Reverse Scaling to get real numbers"
   ]
  },
  {
   "cell_type": "code",
   "execution_count": 18,
   "metadata": {
    "collapsed": true
   },
   "outputs": [
    {
     "name": "stderr",
     "output_type": "stream",
     "text": [
      "/Library/Frameworks/Python.framework/Versions/3.7/lib/python3.7/site-packages/ipykernel_launcher.py:2: SettingWithCopyWarning: \n",
      "A value is trying to be set on a copy of a slice from a DataFrame.\n",
      "Try using .loc[row_indexer,col_indexer] = value instead\n",
      "\n",
      "See the caveats in the documentation: http://pandas.pydata.org/pandas-docs/stable/user_guide/indexing.html#returning-a-view-versus-a-copy\n",
      "  \n"
     ]
    }
   ],
   "source": [
    "submission = train.iloc[1460:]\n",
    "submission['SalePrice'] = pred\n",
    "pred = pd.DataFrame(train_scaler.inverse_transform(submission),columns=submission.columns)['SalePrice']"
   ]
  },
  {
   "cell_type": "markdown",
   "metadata": {},
   "source": [
    "## Create submission file"
   ]
  },
  {
   "cell_type": "code",
   "execution_count": 19,
   "metadata": {},
   "outputs": [],
   "source": [
    "submission = pd.DataFrame(list(enumerate(pred)),columns=['Id','SalePrice']).set_index('Id')\n",
    "submission.index += 1460+1\n",
    "submission.fillna(value=submission['SalePrice'].mean(),inplace=True)\n",
    "submission.to_csv('./submission.csv')"
   ]
  },
  {
   "cell_type": "markdown",
   "metadata": {},
   "source": [
    "# Save model if wanted"
   ]
  },
  {
   "cell_type": "code",
   "execution_count": null,
   "metadata": {},
   "outputs": [],
   "source": [
    "model.save('./Models/Submission_3.h5')"
   ]
  },
  {
   "cell_type": "code",
   "execution_count": null,
   "metadata": {},
   "outputs": [],
   "source": []
  }
 ],
 "metadata": {
  "kernelspec": {
   "display_name": "Python 3",
   "language": "python",
   "name": "python3"
  },
  "language_info": {
   "codemirror_mode": {
    "name": "ipython",
    "version": 3
   },
   "file_extension": ".py",
   "mimetype": "text/x-python",
   "name": "python",
   "nbconvert_exporter": "python",
   "pygments_lexer": "ipython3",
   "version": "3.7.4"
  }
 },
 "nbformat": 4,
 "nbformat_minor": 2
}
